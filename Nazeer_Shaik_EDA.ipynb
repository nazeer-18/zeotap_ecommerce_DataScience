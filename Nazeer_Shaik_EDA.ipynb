{
  "nbformat": 4,
  "nbformat_minor": 0,
  "metadata": {
    "colab": {
      "provenance": []
    },
    "kernelspec": {
      "name": "python3",
      "display_name": "Python 3"
    },
    "language_info": {
      "name": "python"
    }
  },
  "cells": [
    {
      "cell_type": "markdown",
      "source": [
        "Required imports"
      ],
      "metadata": {
        "id": "UVR4ni0D-2me"
      }
    },
    {
      "cell_type": "code",
      "execution_count": 94,
      "metadata": {
        "id": "Z5_5ik_e9kko"
      },
      "outputs": [],
      "source": [
        "import pandas as pd\n",
        "import matplotlib.pyplot as plt\n",
        "import seaborn as sns"
      ]
    },
    {
      "cell_type": "markdown",
      "source": [
        "Load the datasets"
      ],
      "metadata": {
        "id": "2TaVOnqt-7SO"
      }
    },
    {
      "cell_type": "code",
      "source": [
        "customers = pd.read_csv(\"/content/drive/MyDrive/ecommerce_eda/Customers.csv\")\n",
        "products = pd.read_csv(\"/content/drive/MyDrive/ecommerce_eda/Products.csv\")\n",
        "transactions = pd.read_csv(\"/content/drive/MyDrive/ecommerce_eda/Transactions.csv\")"
      ],
      "metadata": {
        "id": "ykyw20029t0F"
      },
      "execution_count": 95,
      "outputs": []
    },
    {
      "cell_type": "markdown",
      "source": [
        "Overview of each dataset"
      ],
      "metadata": {
        "id": "LYIshv_L_CsZ"
      }
    },
    {
      "cell_type": "code",
      "source": [
        "print(\"Customers Dataset Info:\")\n",
        "print(customers.info())\n",
        "print(\"\\nProducts Dataset Info:\")\n",
        "print(products.info())\n",
        "print(\"\\nTransactions Dataset Info:\")\n",
        "print(transactions.info())"
      ],
      "metadata": {
        "colab": {
          "base_uri": "https://localhost:8080/"
        },
        "id": "k7boG16a-9gq",
        "outputId": "c62965bf-8e51-4c35-9439-70e818458587"
      },
      "execution_count": 96,
      "outputs": [
        {
          "output_type": "stream",
          "name": "stdout",
          "text": [
            "Customers Dataset Info:\n",
            "<class 'pandas.core.frame.DataFrame'>\n",
            "RangeIndex: 200 entries, 0 to 199\n",
            "Data columns (total 4 columns):\n",
            " #   Column        Non-Null Count  Dtype \n",
            "---  ------        --------------  ----- \n",
            " 0   CustomerID    200 non-null    object\n",
            " 1   CustomerName  200 non-null    object\n",
            " 2   Region        200 non-null    object\n",
            " 3   SignupDate    200 non-null    object\n",
            "dtypes: object(4)\n",
            "memory usage: 6.4+ KB\n",
            "None\n",
            "\n",
            "Products Dataset Info:\n",
            "<class 'pandas.core.frame.DataFrame'>\n",
            "RangeIndex: 100 entries, 0 to 99\n",
            "Data columns (total 4 columns):\n",
            " #   Column       Non-Null Count  Dtype  \n",
            "---  ------       --------------  -----  \n",
            " 0   ProductID    100 non-null    object \n",
            " 1   ProductName  100 non-null    object \n",
            " 2   Category     100 non-null    object \n",
            " 3   Price        100 non-null    float64\n",
            "dtypes: float64(1), object(3)\n",
            "memory usage: 3.3+ KB\n",
            "None\n",
            "\n",
            "Transactions Dataset Info:\n",
            "<class 'pandas.core.frame.DataFrame'>\n",
            "RangeIndex: 1000 entries, 0 to 999\n",
            "Data columns (total 7 columns):\n",
            " #   Column           Non-Null Count  Dtype  \n",
            "---  ------           --------------  -----  \n",
            " 0   TransactionID    1000 non-null   object \n",
            " 1   CustomerID       1000 non-null   object \n",
            " 2   ProductID        1000 non-null   object \n",
            " 3   TransactionDate  1000 non-null   object \n",
            " 4   Quantity         1000 non-null   int64  \n",
            " 5   TotalValue       1000 non-null   float64\n",
            " 6   Price            1000 non-null   float64\n",
            "dtypes: float64(2), int64(1), object(4)\n",
            "memory usage: 54.8+ KB\n",
            "None\n"
          ]
        }
      ]
    },
    {
      "cell_type": "markdown",
      "source": [
        "Check for missing values"
      ],
      "metadata": {
        "id": "6yaBH9ZQ_PEu"
      }
    },
    {
      "cell_type": "code",
      "source": [
        "print(\"\\nMissing Values in Customers:\")\n",
        "print(customers.isnull().sum())\n",
        "print(\"\\nMissing Values in Products:\")\n",
        "print(products.isnull().sum())\n",
        "print(\"\\nMissing Values in Transactions:\")\n",
        "print(transactions.isnull().sum())"
      ],
      "metadata": {
        "colab": {
          "base_uri": "https://localhost:8080/"
        },
        "id": "ZzESaxXN_OXn",
        "outputId": "9f36aa9c-f9bb-4791-80db-b663baa86dd3"
      },
      "execution_count": 97,
      "outputs": [
        {
          "output_type": "stream",
          "name": "stdout",
          "text": [
            "\n",
            "Missing Values in Customers:\n",
            "CustomerID      0\n",
            "CustomerName    0\n",
            "Region          0\n",
            "SignupDate      0\n",
            "dtype: int64\n",
            "\n",
            "Missing Values in Products:\n",
            "ProductID      0\n",
            "ProductName    0\n",
            "Category       0\n",
            "Price          0\n",
            "dtype: int64\n",
            "\n",
            "Missing Values in Transactions:\n",
            "TransactionID      0\n",
            "CustomerID         0\n",
            "ProductID          0\n",
            "TransactionDate    0\n",
            "Quantity           0\n",
            "TotalValue         0\n",
            "Price              0\n",
            "dtype: int64\n"
          ]
        }
      ]
    },
    {
      "cell_type": "markdown",
      "source": [
        "Check for duplicates"
      ],
      "metadata": {
        "id": "MQJQYXqy_cbV"
      }
    },
    {
      "cell_type": "code",
      "source": [
        "print(\"\\nDuplicates in Customers:\", customers.duplicated().sum())\n",
        "print(\"Duplicates in Products:\", products.duplicated().sum())\n",
        "print(\"Duplicates in Transactions:\", transactions.duplicated().sum())"
      ],
      "metadata": {
        "colab": {
          "base_uri": "https://localhost:8080/"
        },
        "id": "_ZfbI5LA_ZFT",
        "outputId": "01ed782a-73b1-4491-f515-bd68ccece1f6"
      },
      "execution_count": 98,
      "outputs": [
        {
          "output_type": "stream",
          "name": "stdout",
          "text": [
            "\n",
            "Duplicates in Customers: 0\n",
            "Duplicates in Products: 0\n",
            "Duplicates in Transactions: 0\n"
          ]
        }
      ]
    },
    {
      "cell_type": "markdown",
      "source": [
        "Analyze Customers"
      ],
      "metadata": {
        "id": "cEkjRn4x_m0Z"
      }
    },
    {
      "cell_type": "code",
      "source": [
        "print(\"\\nCustomer Region Distribution:\")\n",
        "print(customers[\"Region\"].value_counts())"
      ],
      "metadata": {
        "colab": {
          "base_uri": "https://localhost:8080/"
        },
        "id": "38qcpisX_m-v",
        "outputId": "da68ebb7-255a-4664-845c-f37f78251c90"
      },
      "execution_count": 99,
      "outputs": [
        {
          "output_type": "stream",
          "name": "stdout",
          "text": [
            "\n",
            "Customer Region Distribution:\n",
            "Region\n",
            "South America    59\n",
            "Europe           50\n",
            "North America    46\n",
            "Asia             45\n",
            "Name: count, dtype: int64\n"
          ]
        }
      ]
    },
    {
      "cell_type": "markdown",
      "source": [
        "Plot customer sign-up trends"
      ],
      "metadata": {
        "id": "aWfAwKi-_4Zc"
      }
    },
    {
      "cell_type": "code",
      "source": [
        "customers[\"SignupDate\"] = pd.to_datetime(customers[\"SignupDate\"])\n",
        "signup_trends = customers.groupby(customers[\"SignupDate\"].dt.to_period(\"M\")).size()\n",
        "\n",
        "plt.figure(figsize=(10, 6))\n",
        "signup_trends.plot(kind='bar', color='skyblue')\n",
        "plt.title('Customer Sign-Up Trends')\n",
        "plt.xlabel('Month')\n",
        "plt.ylabel('Number of Sign-Ups')\n",
        "plt.xticks(rotation=45)\n",
        "plt.tight_layout()\n",
        "plt.show()"
      ],
      "metadata": {
        "colab": {
          "base_uri": "https://localhost:8080/",
          "height": 607
        },
        "id": "Ee-Ft10I_xEk",
        "outputId": "57ba9b30-c47c-49f1-de44-a5595b04626f"
      },
      "execution_count": 100,
      "outputs": [
        {
          "output_type": "display_data",
          "data": {
            "text/plain": [
              "<Figure size 1000x600 with 1 Axes>"
            ],
            "image/png": "[encoded data removed]"
          },
          "metadata": {}
        }
      ]
    },
    {
      "cell_type": "markdown",
      "source": [
        "Analyze Products"
      ],
      "metadata": {
        "id": "FN3vkw0cABED"
      }
    },
    {
      "cell_type": "code",
      "source": [
        "print(\"\\nProduct Category Distribution:\")\n",
        "print(products[\"Category\"].value_counts())"
      ],
      "metadata": {
        "colab": {
          "base_uri": "https://localhost:8080/"
        },
        "id": "EpC_WhQR_3GY",
        "outputId": "a86aaf41-33d4-4395-cf22-6bb7e479bf9a"
      },
      "execution_count": 101,
      "outputs": [
        {
          "output_type": "stream",
          "name": "stdout",
          "text": [
            "\n",
            "Product Category Distribution:\n",
            "Category\n",
            "Books          26\n",
            "Electronics    26\n",
            "Clothing       25\n",
            "Home Decor     23\n",
            "Name: count, dtype: int64\n"
          ]
        }
      ]
    },
    {
      "cell_type": "markdown",
      "source": [
        "Analyze Transactions"
      ],
      "metadata": {
        "id": "0a3bsimMAW14"
      }
    },
    {
      "cell_type": "code",
      "source": [
        "print(\"\\nTransaction Summary:\")\n",
        "print(transactions.describe())"
      ],
      "metadata": {
        "colab": {
          "base_uri": "https://localhost:8080/"
        },
        "id": "RbWfa6_BAXex",
        "outputId": "58587852-526b-469d-fe93-ab85a1405710"
      },
      "execution_count": 102,
      "outputs": [
        {
          "output_type": "stream",
          "name": "stdout",
          "text": [
            "\n",
            "Transaction Summary:\n",
            "          Quantity   TotalValue       Price\n",
            "count  1000.000000  1000.000000  1000.00000\n",
            "mean      2.537000   689.995560   272.55407\n",
            "std       1.117981   493.144478   140.73639\n",
            "min       1.000000    16.080000    16.08000\n",
            "25%       2.000000   295.295000   147.95000\n",
            "50%       3.000000   588.880000   299.93000\n",
            "75%       4.000000  1011.660000   404.40000\n",
            "max       4.000000  1991.040000   497.76000\n"
          ]
        }
      ]
    },
    {
      "cell_type": "markdown",
      "source": [
        "Convert TransactionDate to datetime"
      ],
      "metadata": {
        "id": "VTTyxllAAnGY"
      }
    },
    {
      "cell_type": "code",
      "source": [
        "transactions[\"TransactionDate\"] = pd.to_datetime(transactions[\"TransactionDate\"])"
      ],
      "metadata": {
        "id": "bWQRpziNAnqF"
      },
      "execution_count": 103,
      "outputs": []
    },
    {
      "cell_type": "markdown",
      "source": [
        "Transaction trends over time"
      ],
      "metadata": {
        "id": "SVVZDOQXAyLe"
      }
    },
    {
      "cell_type": "code",
      "source": [
        "transaction_trends = (\n",
        "    transactions.groupby(transactions[\"TransactionDate\"].dt.to_period(\"M\"))[\"TotalValue\"].sum()\n",
        ")\n",
        "transaction_trends.plot(kind=\"line\", title=\"Transaction Value Trends\", ylabel=\"Total Value\", xlabel=\"Date\")\n",
        "plt.show()\n"
      ],
      "metadata": {
        "colab": {
          "base_uri": "https://localhost:8080/",
          "height": 488
        },
        "id": "U1XdUk8QAxAL",
        "outputId": "c40ff123-edd2-49fe-b7cf-f3b56c2fc7e3"
      },
      "execution_count": 104,
      "outputs": [
        {
          "output_type": "display_data",
          "data": {
            "text/plain": [
              "<Figure size 640x480 with 1 Axes>"
            ],
            "image/png": "[encoded data removed]"
          },
          "metadata": {}
        }
      ]
    },
    {
      "cell_type": "markdown",
      "source": [
        "Merged Data Analysis"
      ],
      "metadata": {
        "id": "UTfMlp-2CKUN"
      }
    },
    {
      "cell_type": "code",
      "source": [
        "merged_df = pd.merge(transactions, customers, on=\"CustomerID\", how=\"left\")\n",
        "merged_df = pd.merge(merged_df, products, on=\"ProductID\", how=\"left\")"
      ],
      "metadata": {
        "id": "_10I53EhCKbr"
      },
      "execution_count": 105,
      "outputs": []
    },
    {
      "cell_type": "markdown",
      "source": [
        "Top products by revenue"
      ],
      "metadata": {
        "id": "SjLvqZo_CW5-"
      }
    },
    {
      "cell_type": "code",
      "source": [
        "top_products = merged_df.groupby(\"ProductName\")[\"TotalValue\"].sum().sort_values(ascending=False).head(20)\n",
        "print(\"\\nTop 20 Products by Revenue:\")\n",
        "print(top_products)"
      ],
      "metadata": {
        "colab": {
          "base_uri": "https://localhost:8080/"
        },
        "id": "EHj5do7PCRcj",
        "outputId": "760fa191-af79-4a36-c9c7-363f1fffaa0d"
      },
      "execution_count": 106,
      "outputs": [
        {
          "output_type": "stream",
          "name": "stdout",
          "text": [
            "\n",
            "Top 20 Products by Revenue:\n",
            "ProductName\n",
            "ActiveWear Smartwatch      39096.97\n",
            "SoundWave Headphones       25211.64\n",
            "SoundWave Novel            24507.90\n",
            "ActiveWear Jacket          22712.56\n",
            "ActiveWear Rug             22314.43\n",
            "TechPro Headphones         19513.80\n",
            "BookWorld Cookbook         19221.99\n",
            "BookWorld Sweater          18743.79\n",
            "TechPro Textbook           18267.96\n",
            "ActiveWear Cookware Set    18083.73\n",
            "SoundWave Desk Lamp        17920.10\n",
            "TechPro Cookbook           17905.20\n",
            "ActiveWear Textbook        17257.86\n",
            "HomeSense Desk Lamp        15701.32\n",
            "SoundWave Cookbook         15102.72\n",
            "BookWorld Biography        15080.21\n",
            "HomeSense Novel            14592.24\n",
            "TechPro T-Shirt            14264.14\n",
            "ActiveWear Headphones      13958.34\n",
            "SoundWave Jeans            13947.20\n",
            "Name: TotalValue, dtype: float64\n"
          ]
        }
      ]
    },
    {
      "cell_type": "markdown",
      "source": [
        "Revenue by region\n"
      ],
      "metadata": {
        "id": "7jQYd5LcClFf"
      }
    },
    {
      "cell_type": "code",
      "source": [
        "revenue_by_region = merged_df.groupby(\"Region\")[\"TotalValue\"].sum().sort_values(ascending=False)\n",
        "print(\"\\nRevenue by Region:\")\n",
        "print(revenue_by_region)"
      ],
      "metadata": {
        "colab": {
          "base_uri": "https://localhost:8080/"
        },
        "id": "_SFsfU8jClR8",
        "outputId": "f82074b4-5bfe-4fee-c75c-fd4bfe8e6743"
      },
      "execution_count": 107,
      "outputs": [
        {
          "output_type": "stream",
          "name": "stdout",
          "text": [
            "\n",
            "Revenue by Region:\n",
            "Region\n",
            "South America    219352.56\n",
            "Europe           166254.63\n",
            "North America    152313.40\n",
            "Asia             152074.97\n",
            "Name: TotalValue, dtype: float64\n"
          ]
        }
      ]
    },
    {
      "cell_type": "markdown",
      "source": [
        "Visualize revenue by region"
      ],
      "metadata": {
        "id": "iXGDEDUBCrj9"
      }
    },
    {
      "cell_type": "code",
      "source": [
        "plt.figure(figsize=(8, 5))\n",
        "revenue_by_region.plot(kind=\"bar\", title=\"Revenue by Region\", ylabel=\"Revenue\", xlabel=\"Region\")\n",
        "plt.show()"
      ],
      "metadata": {
        "colab": {
          "base_uri": "https://localhost:8080/",
          "height": 575
        },
        "id": "OObcHLyFCrq1",
        "outputId": "4504f155-b841-40e9-94e1-a2291110fae4"
      },
      "execution_count": 108,
      "outputs": [
        {
          "output_type": "display_data",
          "data": {
            "text/plain": [
              "<Figure size 800x500 with 1 Axes>"
            ],
            "image/png": "[encoded data removed]"
          },
          "metadata": {}
        }
      ]
    },
    {
      "cell_type": "markdown",
      "source": [
        "Customer Lifetime Value\n"
      ],
      "metadata": {
        "id": "7fLwp3H2CyQr"
      }
    },
    {
      "cell_type": "code",
      "source": [
        "customer_lifetime_value = merged_df.groupby(\"CustomerID\")[\"TotalValue\"].sum().sort_values(ascending=False).head(20)\n",
        "print(\"\\nTop 20 Customers by Lifetime Value:\")\n",
        "print(customer_lifetime_value)"
      ],
      "metadata": {
        "colab": {
          "base_uri": "https://localhost:8080/"
        },
        "id": "U0fXnaASCyYG",
        "outputId": "b2eede81-45d6-4fab-a3a7-db700adf6561"
      },
      "execution_count": 109,
      "outputs": [
        {
          "output_type": "stream",
          "name": "stdout",
          "text": [
            "\n",
            "Top 20 Customers by Lifetime Value:\n",
            "CustomerID\n",
            "C0141    10673.87\n",
            "C0054     8040.39\n",
            "C0065     7663.70\n",
            "C0156     7634.45\n",
            "C0082     7572.91\n",
            "C0188     7111.32\n",
            "C0059     7073.28\n",
            "C0028     6819.57\n",
            "C0099     6715.72\n",
            "C0165     6708.10\n",
            "C0087     6604.23\n",
            "C0104     6579.10\n",
            "C0175     6210.53\n",
            "C0041     6149.78\n",
            "C0102     6132.36\n",
            "C0096     6072.92\n",
            "C0143     6044.63\n",
            "C0045     6021.80\n",
            "C0013     6000.56\n",
            "C0068     5950.42\n",
            "Name: TotalValue, dtype: float64\n"
          ]
        }
      ]
    },
    {
      "cell_type": "markdown",
      "source": [
        "Average Order Value (AOV)"
      ],
      "metadata": {
        "id": "C7D2tDAsDZcm"
      }
    },
    {
      "cell_type": "code",
      "source": [
        "average_order_value = merged_df[\"TotalValue\"].mean()\n",
        "print(\"\\nAverage Order Value (AOV):\", average_order_value)"
      ],
      "metadata": {
        "colab": {
          "base_uri": "https://localhost:8080/"
        },
        "id": "FMtaDyU3DaOa",
        "outputId": "a3d2b761-cfaa-4282-dcd5-3856e0dc43ca"
      },
      "execution_count": 110,
      "outputs": [
        {
          "output_type": "stream",
          "name": "stdout",
          "text": [
            "\n",
            "Average Order Value (AOV): 689.9955600000001\n"
          ]
        }
      ]
    },
    {
      "cell_type": "markdown",
      "source": [
        "Revenue contribution by product category\n"
      ],
      "metadata": {
        "id": "2CbzF2fZDe5A"
      }
    },
    {
      "cell_type": "code",
      "source": [
        "category_revenue = merged_df.groupby(\"Category\")[\"TotalValue\"].sum().sort_values(ascending=False)\n",
        "print(\"\\nRevenue by Product Category:\")\n",
        "print(category_revenue)"
      ],
      "metadata": {
        "colab": {
          "base_uri": "https://localhost:8080/"
        },
        "id": "BB8JuXFRDe_E",
        "outputId": "8981f927-d59b-46f1-ee7b-33c2f9d9237b"
      },
      "execution_count": 111,
      "outputs": [
        {
          "output_type": "stream",
          "name": "stdout",
          "text": [
            "\n",
            "Revenue by Product Category:\n",
            "Category\n",
            "Books          192147.47\n",
            "Electronics    180783.50\n",
            "Clothing       166170.66\n",
            "Home Decor     150893.93\n",
            "Name: TotalValue, dtype: float64\n"
          ]
        }
      ]
    },
    {
      "cell_type": "markdown",
      "source": [
        "Identify underperforming products\n"
      ],
      "metadata": {
        "id": "QI5gGomrDmWB"
      }
    },
    {
      "cell_type": "code",
      "source": [
        "underperforming_products = merged_df.groupby(\"ProductName\")[\"TotalValue\"].sum().sort_values().head(10)\n",
        "print(\"\\nUnderperforming Products:\")\n",
        "print(underperforming_products)"
      ],
      "metadata": {
        "colab": {
          "base_uri": "https://localhost:8080/"
        },
        "id": "CVSzizIeDmgQ",
        "outputId": "182a41a2-b228-436f-90b4-595be8364842"
      },
      "execution_count": 112,
      "outputs": [
        {
          "output_type": "stream",
          "name": "stdout",
          "text": [
            "\n",
            "Underperforming Products:\n",
            "ProductName\n",
            "ComfortLiving Laptop            647.76\n",
            "ActiveWear T-Shirt              795.34\n",
            "ComfortLiving Rug              1063.81\n",
            "SoundWave Bluetooth Speaker    1223.22\n",
            "ComfortLiving Desk Lamp        1694.16\n",
            "BookWorld Rug                  1722.42\n",
            "ComfortLiving Headphones       2394.00\n",
            "BookWorld Bluetooth Speaker    2790.15\n",
            "HomeSense Headphones           2860.74\n",
            "ActiveWear Biography           3047.40\n",
            "Name: TotalValue, dtype: float64\n"
          ]
        }
      ]
    },
    {
      "cell_type": "markdown",
      "source": [
        "Monthly sales trends"
      ],
      "metadata": {
        "id": "SV_CrCdrDuZA"
      }
    },
    {
      "cell_type": "code",
      "source": [
        "monthly_sales = merged_df.groupby(merged_df[\"TransactionDate\"].dt.to_period(\"M\"))[\"TotalValue\"].sum()\n",
        "print(\"\\nMonthly Sales Trends:\")\n",
        "print(monthly_sales)"
      ],
      "metadata": {
        "colab": {
          "base_uri": "https://localhost:8080/"
        },
        "id": "1Ql5mSeBDugj",
        "outputId": "03da1bad-f815-49bd-ffbf-69be93d87873"
      },
      "execution_count": 113,
      "outputs": [
        {
          "output_type": "stream",
          "name": "stdout",
          "text": [
            "\n",
            "Monthly Sales Trends:\n",
            "TransactionDate\n",
            "2023-12     3769.52\n",
            "2024-01    66376.39\n",
            "2024-02    51459.27\n",
            "2024-03    47828.73\n",
            "2024-04    57519.06\n",
            "2024-05    64527.74\n",
            "2024-06    48771.18\n",
            "2024-07    71366.39\n",
            "2024-08    63436.74\n",
            "2024-09    70603.75\n",
            "2024-10    47063.22\n",
            "2024-11    38224.37\n",
            "2024-12    59049.20\n",
            "Freq: M, Name: TotalValue, dtype: float64\n"
          ]
        }
      ]
    },
    {
      "cell_type": "markdown",
      "source": [
        "inactive customers by region"
      ],
      "metadata": {
        "id": "gB3aoDOdNgv8"
      }
    },
    {
      "cell_type": "code",
      "source": [
        "customers_with_transactions = merged_df[\"CustomerID\"].unique()\n",
        "\n",
        "inactive_customers = customers[~customers[\"CustomerID\"].isin(customers_with_transactions)]\n",
        "\n",
        "inactive_customers_by_region = inactive_customers[\"Region\"].value_counts()\n",
        "\n",
        "print(\"\\nCount of Users Who Didn't Do At Least One Transaction by Region:\")\n",
        "print(inactive_customers_by_region)"
      ],
      "metadata": {
        "colab": {
          "base_uri": "https://localhost:8080/"
        },
        "id": "AUM572VTM59W",
        "outputId": "aa2f5cab-5ac5-46bb-b46f-2589430d8d64"
      },
      "execution_count": 114,
      "outputs": [
        {
          "output_type": "stream",
          "name": "stdout",
          "text": [
            "\n",
            "Count of Users Who Didn't Do At Least One Transaction by Region:\n",
            "Region\n",
            "Asia    1\n",
            "Name: count, dtype: int64\n"
          ]
        }
      ]
    }
  ]
}