{
  "nbformat": 4,
  "nbformat_minor": 0,
  "metadata": {
    "colab": {
      "provenance": []
    },
    "kernelspec": {
      "name": "python3",
      "display_name": "Python 3"
    },
    "language_info": {
      "name": "python"
    }
  },
  "cells": [
    {
      "cell_type": "code",
      "source": [
        "from google.colab import drive\n",
        "drive.mount('/content/drive')"
      ],
      "metadata": {
        "colab": {
          "base_uri": "https://localhost:8080/"
        },
        "id": "vZIrERM9XbbM",
        "outputId": "85ba627d-789a-436d-8e81-fa4b06669d51"
      },
      "execution_count": 1,
      "outputs": [
        {
          "output_type": "stream",
          "name": "stdout",
          "text": [
            "Mounted at /content/drive\n"
          ]
        }
      ]
    },
    {
      "cell_type": "code",
      "execution_count": 2,
      "metadata": {
        "colab": {
          "base_uri": "https://localhost:8080/"
        },
        "id": "IKhf3cTbXTwJ",
        "outputId": "21c81576-50a5-49a5-b343-bf34f107bd76"
      },
      "outputs": [
        {
          "output_type": "stream",
          "name": "stdout",
          "text": [
            "    TransactionID CustomerID ProductID     TransactionDate  Quantity  \\\n",
            "0          T00001      C0199      P067 2024-08-25 12:38:23         1   \n",
            "1          T00112      C0146      P067 2024-05-27 22:23:54         1   \n",
            "2          T00166      C0127      P067 2024-04-25 07:38:55         1   \n",
            "3          T00272      C0087      P067 2024-03-26 22:55:37         2   \n",
            "4          T00363      C0070      P067 2024-03-21 15:10:10         3   \n",
            "..            ...        ...       ...                 ...       ...   \n",
            "995        T00496      C0118      P037 2024-10-24 08:30:27         1   \n",
            "996        T00759      C0059      P037 2024-06-04 02:15:24         3   \n",
            "997        T00922      C0018      P037 2024-04-05 13:05:32         4   \n",
            "998        T00959      C0115      P037 2024-09-29 10:16:02         2   \n",
            "999        T00992      C0024      P037 2024-04-21 10:52:24         1   \n",
            "\n",
            "     TotalValue  Price_x          CustomerName         Region SignupDate  \\\n",
            "0        300.68   300.68        Andrea Jenkins         Europe 2022-12-03   \n",
            "1        300.68   300.68       Brittany Harvey           Asia 2024-09-04   \n",
            "2        300.68   300.68       Kathryn Stevens         Europe 2024-04-04   \n",
            "3        601.36   300.68       Travis Campbell  South America 2024-04-11   \n",
            "4        902.04   300.68         Timothy Perez         Europe 2022-03-15   \n",
            "..          ...      ...                   ...            ...        ...   \n",
            "995      459.86   459.86            Jacob Holt  South America 2022-01-22   \n",
            "996     1379.58   459.86  Mrs. Kimberly Wright  North America 2024-04-07   \n",
            "997     1839.44   459.86          Tyler Haynes  North America 2024-09-21   \n",
            "998      919.72   459.86       Joshua Hamilton           Asia 2024-11-11   \n",
            "999      459.86   459.86        Michele Cooley  North America 2024-02-05   \n",
            "\n",
            "                         ProductName     Category  Price_y  \n",
            "0    ComfortLiving Bluetooth Speaker  Electronics   300.68  \n",
            "1    ComfortLiving Bluetooth Speaker  Electronics   300.68  \n",
            "2    ComfortLiving Bluetooth Speaker  Electronics   300.68  \n",
            "3    ComfortLiving Bluetooth Speaker  Electronics   300.68  \n",
            "4    ComfortLiving Bluetooth Speaker  Electronics   300.68  \n",
            "..                               ...          ...      ...  \n",
            "995             SoundWave Smartwatch  Electronics   459.86  \n",
            "996             SoundWave Smartwatch  Electronics   459.86  \n",
            "997             SoundWave Smartwatch  Electronics   459.86  \n",
            "998             SoundWave Smartwatch  Electronics   459.86  \n",
            "999             SoundWave Smartwatch  Electronics   459.86  \n",
            "\n",
            "[1000 rows x 13 columns]\n"
          ]
        }
      ],
      "source": [
        "import pandas as pd\n",
        "from sklearn.metrics.pairwise import cosine_similarity\n",
        "from sklearn.preprocessing import StandardScaler, LabelEncoder\n",
        "\n",
        "# Load datasets\n",
        "customers = pd.read_csv('/content/drive/MyDrive/ecommerce_eda/Customers.csv')\n",
        "products = pd.read_csv('/content/drive/MyDrive/ecommerce_eda/Products.csv')\n",
        "transactions = pd.read_csv('/content/drive/MyDrive/ecommerce_eda/Transactions.csv')\n",
        "\n",
        "# Convert date columns to datetime\n",
        "customers['SignupDate'] = pd.to_datetime(customers['SignupDate'])\n",
        "transactions['TransactionDate'] = pd.to_datetime(transactions['TransactionDate'])\n",
        "\n",
        "# Merge data for feature engineering\n",
        "merged_data = transactions.merge(customers, on='CustomerID', how='left').merge(products, on='ProductID', how='left')\n",
        "print(merged_data)"
      ]
    },
    {
      "cell_type": "code",
      "source": [
        "# Create customer-level features\n",
        "customer_features = merged_data.groupby('CustomerID').agg({\n",
        "    'Quantity': 'sum',\n",
        "    'TotalValue': 'sum',\n",
        "    'ProductID': 'nunique'\n",
        "}).rename(columns={'Quantity': 'TotalQuantity', 'TotalValue': 'TotalSpent', 'ProductID': 'UniqueProducts'})\n",
        "\n",
        "# Normalize features\n",
        "scaler = StandardScaler()\n",
        "customer_features_scaled = pd.DataFrame(scaler.fit_transform(customer_features), columns=customer_features.columns, index=customer_features.index)\n",
        "\n",
        "# Create product preference matrix\n",
        "product_preference = pd.pivot_table(merged_data, index='CustomerID', columns='Category', values='Quantity', aggfunc='sum', fill_value=0)"
      ],
      "metadata": {
        "id": "8Bgh1X9qX2A2"
      },
      "execution_count": 3,
      "outputs": []
    },
    {
      "cell_type": "code",
      "source": [
        "# Compute similarity\n",
        "profile_similarity = cosine_similarity(customer_features_scaled)\n",
        "transaction_similarity = cosine_similarity(product_preference)\n",
        "\n",
        "# Combine similarities (assigning equal weights)\n",
        "final_similarity = 0.5 * profile_similarity + 0.5 * transaction_similarity\n",
        "final_similarity_df = pd.DataFrame(final_similarity, index=customer_features.index, columns=customer_features.index)"
      ],
      "metadata": {
        "id": "M-pOWvT8Z-Cy"
      },
      "execution_count": 4,
      "outputs": []
    },
    {
      "cell_type": "code",
      "source": [
        "# Generate top 3 recommendations for each customer\n",
        "top_lookalikes = {}\n",
        "\n",
        "for customer in final_similarity_df.index[:20]:  # First 20 customers\n",
        "    scores = final_similarity_df.loc[customer]\n",
        "    similar_customers = scores.nlargest(4).iloc[1:4]  # Exclude self (highest similarity)\n",
        "    top_lookalikes[customer] = [(cust, round(score, 4)) for cust, score in similar_customers.items()]\n",
        "\n",
        "# Convert to Lookalike.csv format\n",
        "lookalike_data = []\n",
        "\n",
        "for cust_id, lookalikes in top_lookalikes.items():\n",
        "    lookalike_list = ', '.join([f'({l[0]}, {l[1]})' for l in lookalikes])\n",
        "    lookalike_data.append({'Map<cust_id, List<cust_id, score>>': f'<{cust_id}, [{lookalike_list}]>'})\n",
        "\n",
        "lookalike_df = pd.DataFrame(lookalike_data)\n",
        "lookalike_df.to_csv('Lookalike.csv', index=False)"
      ],
      "metadata": {
        "id": "-nlbIYWtaCSP"
      },
      "execution_count": 5,
      "outputs": []
    }
  ]
}